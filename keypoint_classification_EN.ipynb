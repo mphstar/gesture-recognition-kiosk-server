{
 "cells": [
  {
   "cell_type": "code",
   "execution_count": 1,
   "metadata": {
    "id": "igMyGnjE9hEp"
   },
   "outputs": [],
   "source": [
    "import csv\n",
    "\n",
    "import numpy as np\n",
    "import tensorflow as tf\n",
    "from sklearn.model_selection import train_test_split\n",
    "\n",
    "RANDOM_SEED = 42"
   ]
  },
  {
   "cell_type": "markdown",
   "metadata": {
    "id": "t2HDvhIu9hEr"
   },
   "source": [
    "# Specify each path"
   ]
  },
  {
   "cell_type": "code",
   "execution_count": 2,
   "metadata": {
    "id": "9NvZP2Zn9hEy"
   },
   "outputs": [],
   "source": [
    "dataset = 'model/keypoint_classifier/keypoint.csv'\n",
    "model_save_path = 'model/keypoint_classifier/keypoint_classifier.hdf5'\n",
    "tflite_save_path = 'model/keypoint_classifier/keypoint_classifier.tflite'"
   ]
  },
  {
   "cell_type": "markdown",
   "metadata": {
    "id": "s5oMH7x19hEz"
   },
   "source": [
    "# Set number of classes"
   ]
  },
  {
   "cell_type": "code",
   "execution_count": 3,
   "metadata": {
    "id": "du4kodXL9hEz"
   },
   "outputs": [],
   "source": [
    "NUM_CLASSES = 11"
   ]
  },
  {
   "cell_type": "markdown",
   "metadata": {
    "id": "XjnL0uso9hEz"
   },
   "source": [
    "# Dataset reading"
   ]
  },
  {
   "cell_type": "code",
   "execution_count": 4,
   "metadata": {
    "id": "QT5ZqtEz9hE0"
   },
   "outputs": [],
   "source": [
    "X_dataset = np.loadtxt(dataset, delimiter=',', dtype='float32', usecols=list(range(1, (21 * 2) + 1)))"
   ]
  },
  {
   "cell_type": "code",
   "execution_count": 5,
   "metadata": {
    "id": "QmoKFsp49hE0"
   },
   "outputs": [],
   "source": [
    "y_dataset = np.loadtxt(dataset, delimiter=',', dtype='int32', usecols=(0))"
   ]
  },
  {
   "cell_type": "code",
   "execution_count": 6,
   "metadata": {
    "id": "xQU7JTZ_9hE0"
   },
   "outputs": [],
   "source": [
    "X_train, X_test, y_train, y_test = train_test_split(X_dataset, y_dataset, train_size=0.75, random_state=RANDOM_SEED)"
   ]
  },
  {
   "cell_type": "markdown",
   "metadata": {
    "id": "mxK_lETT9hE0"
   },
   "source": [
    "# Model building"
   ]
  },
  {
   "cell_type": "code",
   "execution_count": 7,
   "metadata": {
    "id": "vHBmUf1t9hE1"
   },
   "outputs": [],
   "source": [
    "model = tf.keras.models.Sequential([\n",
    "    tf.keras.layers.Input((21 * 2, )),\n",
    "    tf.keras.layers.Dropout(0.2),\n",
    "    tf.keras.layers.Dense(20, activation='relu'),\n",
    "    tf.keras.layers.Dropout(0.4),\n",
    "    tf.keras.layers.Dense(10, activation='relu'),\n",
    "    tf.keras.layers.Dense(NUM_CLASSES, activation='softmax')\n",
    "])"
   ]
  },
  {
   "cell_type": "code",
   "execution_count": 8,
   "metadata": {
    "colab": {
     "base_uri": "https://localhost:8080/"
    },
    "id": "ypqky9tc9hE1",
    "outputId": "5db082bb-30e3-4110-bf63-a1ee777ecd46"
   },
   "outputs": [
    {
     "name": "stdout",
     "output_type": "stream",
     "text": [
      "Model: \"sequential\"\n",
      "_________________________________________________________________\n",
      " Layer (type)                Output Shape              Param #   \n",
      "=================================================================\n",
      " dropout (Dropout)           (None, 42)                0         \n",
      "                                                                 \n",
      " dense (Dense)               (None, 20)                860       \n",
      "                                                                 \n",
      " dropout_1 (Dropout)         (None, 20)                0         \n",
      "                                                                 \n",
      " dense_1 (Dense)             (None, 10)                210       \n",
      "                                                                 \n",
      " dense_2 (Dense)             (None, 11)                121       \n",
      "                                                                 \n",
      "=================================================================\n",
      "Total params: 1191 (4.65 KB)\n",
      "Trainable params: 1191 (4.65 KB)\n",
      "Non-trainable params: 0 (0.00 Byte)\n",
      "_________________________________________________________________\n"
     ]
    }
   ],
   "source": [
    "model.summary()  # tf.keras.utils.plot_model(model, show_shapes=True)"
   ]
  },
  {
   "cell_type": "code",
   "execution_count": 9,
   "metadata": {
    "id": "MbMjOflQ9hE1"
   },
   "outputs": [],
   "source": [
    "# Model checkpoint callback\n",
    "cp_callback = tf.keras.callbacks.ModelCheckpoint(\n",
    "    model_save_path, verbose=1, save_weights_only=False)\n",
    "# Callback for early stopping\n",
    "es_callback = tf.keras.callbacks.EarlyStopping(patience=20, verbose=1)"
   ]
  },
  {
   "cell_type": "code",
   "execution_count": 10,
   "metadata": {
    "id": "c3Dac0M_9hE2"
   },
   "outputs": [],
   "source": [
    "# Model compilation\n",
    "model.compile(\n",
    "    optimizer='adam',\n",
    "    loss='sparse_categorical_crossentropy',\n",
    "    metrics=['accuracy']\n",
    ")"
   ]
  },
  {
   "cell_type": "markdown",
   "metadata": {
    "id": "7XI0j1Iu9hE2"
   },
   "source": [
    "# Model training"
   ]
  },
  {
   "cell_type": "code",
   "execution_count": null,
   "metadata": {
    "colab": {
     "base_uri": "https://localhost:8080/"
    },
    "id": "WirBl-JE9hE3",
    "outputId": "71b30ca2-8294-4d9d-8aa2-800d90d399de",
    "scrolled": true
   },
   "outputs": [
    {
     "name": "stdout",
     "output_type": "stream",
     "text": [
      "Epoch 1/1000\n",
      " 1/22 [>.............................] - ETA: 19s - loss: 2.4741 - accuracy: 0.0469\n",
      "Epoch 1: saving model to model/keypoint_classifier\\keypoint_classifier.hdf5\n",
      "22/22 [==============================] - 1s 15ms/step - loss: 2.3566 - accuracy: 0.0927 - val_loss: 2.2442 - val_accuracy: 0.2803\n",
      "Epoch 2/1000\n",
      " 1/22 [>.............................] - ETA: 0s - loss: 2.2761 - accuracy: 0.1562\n",
      "Epoch 2: saving model to model/keypoint_classifier\\keypoint_classifier.hdf5\n",
      "22/22 [==============================] - 0s 4ms/step - loss: 2.2327 - accuracy: 0.2159 - val_loss: 2.1332 - val_accuracy: 0.3459\n",
      "Epoch 3/1000\n",
      " 1/22 [>.............................] - ETA: 0s - loss: 2.2196 - accuracy: 0.2734\n",
      "Epoch 3: saving model to model/keypoint_classifier\\keypoint_classifier.hdf5\n"
     ]
    },
    {
     "name": "stderr",
     "output_type": "stream",
     "text": [
      "D:\\Development\\Python\\Gesture Recognition\\hand-gesture-recognition-mediapipe\\venv\\Lib\\site-packages\\keras\\src\\engine\\training.py:3000: UserWarning: You are saving your model as an HDF5 file via `model.save()`. This file format is considered legacy. We recommend using instead the native Keras format, e.g. `model.save('my_model.keras')`.\n",
      "  saving_api.save_model(\n"
     ]
    },
    {
     "name": "stdout",
     "output_type": "stream",
     "text": [
      "22/22 [==============================] - 0s 5ms/step - loss: 2.1377 - accuracy: 0.3138 - val_loss: 2.0188 - val_accuracy: 0.4271\n",
      "Epoch 4/1000\n",
      " 1/22 [>.............................] - ETA: 0s - loss: 2.0692 - accuracy: 0.3828\n",
      "Epoch 4: saving model to model/keypoint_classifier\\keypoint_classifier.hdf5\n",
      "22/22 [==============================] - 0s 5ms/step - loss: 2.0474 - accuracy: 0.3783 - val_loss: 1.9182 - val_accuracy: 0.4538\n",
      "Epoch 5/1000\n",
      " 1/22 [>.............................] - ETA: 0s - loss: 2.0885 - accuracy: 0.3594\n",
      "Epoch 5: saving model to model/keypoint_classifier\\keypoint_classifier.hdf5\n",
      "22/22 [==============================] - 0s 4ms/step - loss: 1.9980 - accuracy: 0.3984 - val_loss: 1.8334 - val_accuracy: 0.4572\n",
      "Epoch 6/1000\n",
      " 1/22 [>.............................] - ETA: 0s - loss: 1.8800 - accuracy: 0.4844\n",
      "Epoch 6: saving model to model/keypoint_classifier\\keypoint_classifier.hdf5\n",
      "22/22 [==============================] - 0s 5ms/step - loss: 1.9292 - accuracy: 0.3984 - val_loss: 1.7642 - val_accuracy: 0.4572\n",
      "Epoch 7/1000\n",
      " 1/22 [>.............................] - ETA: 0s - loss: 1.7877 - accuracy: 0.4375\n",
      "Epoch 7: saving model to model/keypoint_classifier\\keypoint_classifier.hdf5\n",
      "22/22 [==============================] - 0s 4ms/step - loss: 1.8608 - accuracy: 0.4084 - val_loss: 1.6932 - val_accuracy: 0.4583\n",
      "Epoch 8/1000\n",
      " 1/22 [>.............................] - ETA: 0s - loss: 1.7590 - accuracy: 0.4688\n",
      "Epoch 8: saving model to model/keypoint_classifier\\keypoint_classifier.hdf5\n",
      "22/22 [==============================] - 0s 5ms/step - loss: 1.7923 - accuracy: 0.4173 - val_loss: 1.6115 - val_accuracy: 0.4583\n",
      "Epoch 9/1000\n",
      " 1/22 [>.............................] - ETA: 0s - loss: 1.8869 - accuracy: 0.3594\n",
      "Epoch 9: saving model to model/keypoint_classifier\\keypoint_classifier.hdf5\n",
      "22/22 [==============================] - 0s 5ms/step - loss: 1.7386 - accuracy: 0.4188 - val_loss: 1.5506 - val_accuracy: 0.4572\n",
      "Epoch 10/1000\n",
      " 1/22 [>.............................] - ETA: 0s - loss: 1.7418 - accuracy: 0.3984\n",
      "Epoch 10: saving model to model/keypoint_classifier\\keypoint_classifier.hdf5\n",
      "22/22 [==============================] - 0s 5ms/step - loss: 1.6880 - accuracy: 0.4254 - val_loss: 1.5019 - val_accuracy: 0.4594\n",
      "Epoch 11/1000\n",
      " 1/22 [>.............................] - ETA: 0s - loss: 1.5552 - accuracy: 0.5078\n",
      "Epoch 11: saving model to model/keypoint_classifier\\keypoint_classifier.hdf5\n",
      "22/22 [==============================] - 0s 5ms/step - loss: 1.6608 - accuracy: 0.4288 - val_loss: 1.4641 - val_accuracy: 0.4627\n",
      "Epoch 12/1000\n",
      " 1/22 [>.............................] - ETA: 0s - loss: 1.7052 - accuracy: 0.3750\n",
      "Epoch 12: saving model to model/keypoint_classifier\\keypoint_classifier.hdf5\n",
      "22/22 [==============================] - 0s 4ms/step - loss: 1.6291 - accuracy: 0.4254 - val_loss: 1.4256 - val_accuracy: 0.4661\n",
      "Epoch 13/1000\n",
      " 1/22 [>.............................] - ETA: 0s - loss: 1.6993 - accuracy: 0.3672\n",
      "Epoch 13: saving model to model/keypoint_classifier\\keypoint_classifier.hdf5\n",
      "22/22 [==============================] - 0s 5ms/step - loss: 1.6081 - accuracy: 0.4321 - val_loss: 1.4008 - val_accuracy: 0.4661\n",
      "Epoch 14/1000\n",
      " 1/22 [>.............................] - ETA: 0s - loss: 1.5752 - accuracy: 0.4688\n",
      "Epoch 14: saving model to model/keypoint_classifier\\keypoint_classifier.hdf5\n",
      "22/22 [==============================] - 0s 5ms/step - loss: 1.5682 - accuracy: 0.4358 - val_loss: 1.3786 - val_accuracy: 0.4727\n",
      "Epoch 15/1000\n",
      " 1/22 [>.............................] - ETA: 0s - loss: 1.5214 - accuracy: 0.4453\n",
      "Epoch 15: saving model to model/keypoint_classifier\\keypoint_classifier.hdf5\n",
      "22/22 [==============================] - 0s 5ms/step - loss: 1.5670 - accuracy: 0.4225 - val_loss: 1.3424 - val_accuracy: 0.4805\n",
      "Epoch 16/1000\n",
      " 1/22 [>.............................] - ETA: 0s - loss: 1.6937 - accuracy: 0.3203\n",
      "Epoch 16: saving model to model/keypoint_classifier\\keypoint_classifier.hdf5\n",
      "22/22 [==============================] - 0s 5ms/step - loss: 1.5346 - accuracy: 0.4314 - val_loss: 1.3170 - val_accuracy: 0.4961\n",
      "Epoch 17/1000\n",
      " 1/22 [>.............................] - ETA: 0s - loss: 1.5247 - accuracy: 0.4609\n",
      "Epoch 17: saving model to model/keypoint_classifier\\keypoint_classifier.hdf5\n",
      "22/22 [==============================] - 0s 4ms/step - loss: 1.5098 - accuracy: 0.4496 - val_loss: 1.2915 - val_accuracy: 0.5206\n",
      "Epoch 18/1000\n",
      " 1/22 [>.............................] - ETA: 0s - loss: 1.3903 - accuracy: 0.4531\n",
      "Epoch 18: saving model to model/keypoint_classifier\\keypoint_classifier.hdf5\n",
      "22/22 [==============================] - 0s 5ms/step - loss: 1.5012 - accuracy: 0.4410 - val_loss: 1.2711 - val_accuracy: 0.4894\n",
      "Epoch 19/1000\n",
      " 1/22 [>.............................] - ETA: 0s - loss: 1.4752 - accuracy: 0.4609\n",
      "Epoch 19: saving model to model/keypoint_classifier\\keypoint_classifier.hdf5\n",
      "22/22 [==============================] - 0s 5ms/step - loss: 1.4843 - accuracy: 0.4403 - val_loss: 1.2519 - val_accuracy: 0.4905\n",
      "Epoch 20/1000\n",
      " 1/22 [>.............................] - ETA: 0s - loss: 1.4929 - accuracy: 0.4453\n",
      "Epoch 20: saving model to model/keypoint_classifier\\keypoint_classifier.hdf5\n",
      "22/22 [==============================] - 0s 5ms/step - loss: 1.4686 - accuracy: 0.4481 - val_loss: 1.2285 - val_accuracy: 0.5328\n",
      "Epoch 21/1000\n",
      " 1/22 [>.............................] - ETA: 0s - loss: 1.6600 - accuracy: 0.4219\n",
      "Epoch 21: saving model to model/keypoint_classifier\\keypoint_classifier.hdf5\n",
      "22/22 [==============================] - 0s 5ms/step - loss: 1.4611 - accuracy: 0.4503 - val_loss: 1.2114 - val_accuracy: 0.5384\n",
      "Epoch 22/1000\n",
      " 1/22 [>.............................] - ETA: 0s - loss: 1.4293 - accuracy: 0.4609\n",
      "Epoch 22: saving model to model/keypoint_classifier\\keypoint_classifier.hdf5\n",
      "22/22 [==============================] - 0s 5ms/step - loss: 1.4435 - accuracy: 0.4562 - val_loss: 1.1953 - val_accuracy: 0.5384\n",
      "Epoch 23/1000\n",
      " 1/22 [>.............................] - ETA: 0s - loss: 1.3942 - accuracy: 0.4688\n",
      "Epoch 23: saving model to model/keypoint_classifier\\keypoint_classifier.hdf5\n",
      "22/22 [==============================] - 0s 5ms/step - loss: 1.4270 - accuracy: 0.4559 - val_loss: 1.1781 - val_accuracy: 0.5373\n",
      "Epoch 24/1000\n",
      " 1/22 [>.............................] - ETA: 0s - loss: 1.5635 - accuracy: 0.3906\n",
      "Epoch 24: saving model to model/keypoint_classifier\\keypoint_classifier.hdf5\n",
      "22/22 [==============================] - 0s 7ms/step - loss: 1.4290 - accuracy: 0.4533 - val_loss: 1.1588 - val_accuracy: 0.5395\n",
      "Epoch 25/1000\n",
      " 1/22 [>.............................] - ETA: 0s - loss: 1.4441 - accuracy: 0.4062\n",
      "Epoch 25: saving model to model/keypoint_classifier\\keypoint_classifier.hdf5\n",
      "22/22 [==============================] - 0s 5ms/step - loss: 1.4016 - accuracy: 0.4662 - val_loss: 1.1445 - val_accuracy: 0.5517\n",
      "Epoch 26/1000\n",
      " 1/22 [>.............................] - ETA: 0s - loss: 1.3421 - accuracy: 0.4844\n",
      "Epoch 26: saving model to model/keypoint_classifier\\keypoint_classifier.hdf5\n",
      "22/22 [==============================] - 0s 5ms/step - loss: 1.3884 - accuracy: 0.4722 - val_loss: 1.1358 - val_accuracy: 0.5428\n",
      "Epoch 27/1000\n",
      " 1/22 [>.............................] - ETA: 0s - loss: 1.3192 - accuracy: 0.5547\n",
      "Epoch 27: saving model to model/keypoint_classifier\\keypoint_classifier.hdf5\n",
      "22/22 [==============================] - 0s 5ms/step - loss: 1.3701 - accuracy: 0.4826 - val_loss: 1.1210 - val_accuracy: 0.5451\n",
      "Epoch 28/1000\n",
      " 1/22 [>.............................] - ETA: 0s - loss: 1.3774 - accuracy: 0.5000\n",
      "Epoch 28: saving model to model/keypoint_classifier\\keypoint_classifier.hdf5\n",
      "22/22 [==============================] - 0s 5ms/step - loss: 1.3673 - accuracy: 0.4614 - val_loss: 1.1023 - val_accuracy: 0.5573\n",
      "Epoch 29/1000\n",
      " 1/22 [>.............................] - ETA: 0s - loss: 1.2637 - accuracy: 0.5312\n",
      "Epoch 29: saving model to model/keypoint_classifier\\keypoint_classifier.hdf5\n",
      "22/22 [==============================] - 0s 5ms/step - loss: 1.3509 - accuracy: 0.4703 - val_loss: 1.0887 - val_accuracy: 0.5640\n",
      "Epoch 30/1000\n",
      " 1/22 [>.............................] - ETA: 0s - loss: 1.2438 - accuracy: 0.5391\n",
      "Epoch 30: saving model to model/keypoint_classifier\\keypoint_classifier.hdf5\n",
      "22/22 [==============================] - 0s 4ms/step - loss: 1.3276 - accuracy: 0.4881 - val_loss: 1.0755 - val_accuracy: 0.5996\n",
      "Epoch 31/1000\n",
      " 1/22 [>.............................] - ETA: 0s - loss: 1.3393 - accuracy: 0.5156\n",
      "Epoch 31: saving model to model/keypoint_classifier\\keypoint_classifier.hdf5\n",
      "22/22 [==============================] - 0s 5ms/step - loss: 1.3376 - accuracy: 0.4911 - val_loss: 1.0577 - val_accuracy: 0.6073\n",
      "Epoch 32/1000\n",
      " 1/22 [>.............................] - ETA: 0s - loss: 1.2897 - accuracy: 0.4844\n",
      "Epoch 32: saving model to model/keypoint_classifier\\keypoint_classifier.hdf5\n",
      "22/22 [==============================] - 0s 5ms/step - loss: 1.3341 - accuracy: 0.4874 - val_loss: 1.0422 - val_accuracy: 0.6307\n",
      "Epoch 33/1000\n",
      " 1/22 [>.............................] - ETA: 0s - loss: 1.2467 - accuracy: 0.5312\n",
      "Epoch 33: saving model to model/keypoint_classifier\\keypoint_classifier.hdf5\n",
      "22/22 [==============================] - 0s 5ms/step - loss: 1.2948 - accuracy: 0.5026 - val_loss: 1.0329 - val_accuracy: 0.6719\n",
      "Epoch 34/1000\n",
      " 1/22 [>.............................] - ETA: 0s - loss: 1.3713 - accuracy: 0.4922\n",
      "Epoch 34: saving model to model/keypoint_classifier\\keypoint_classifier.hdf5\n",
      "22/22 [==============================] - 0s 6ms/step - loss: 1.3013 - accuracy: 0.5070 - val_loss: 1.0167 - val_accuracy: 0.6641\n",
      "Epoch 35/1000\n",
      "11/22 [==============>...............] - ETA: 0s - loss: 1.2775 - accuracy: 0.4979\n",
      "Epoch 35: saving model to model/keypoint_classifier\\keypoint_classifier.hdf5\n",
      "22/22 [==============================] - 0s 9ms/step - loss: 1.2952 - accuracy: 0.4918 - val_loss: 1.0080 - val_accuracy: 0.6796\n",
      "Epoch 36/1000\n",
      " 1/22 [>.............................] - ETA: 0s - loss: 1.1895 - accuracy: 0.5781\n",
      "Epoch 36: saving model to model/keypoint_classifier\\keypoint_classifier.hdf5\n",
      "22/22 [==============================] - 0s 5ms/step - loss: 1.2814 - accuracy: 0.5033 - val_loss: 1.0000 - val_accuracy: 0.6618\n",
      "Epoch 37/1000\n",
      " 1/22 [>.............................] - ETA: 0s - loss: 1.2810 - accuracy: 0.4922\n",
      "Epoch 37: saving model to model/keypoint_classifier\\keypoint_classifier.hdf5\n",
      "22/22 [==============================] - 0s 5ms/step - loss: 1.2880 - accuracy: 0.5041 - val_loss: 0.9879 - val_accuracy: 0.6652\n",
      "Epoch 38/1000\n",
      " 1/22 [>.............................] - ETA: 0s - loss: 1.2011 - accuracy: 0.5391\n",
      "Epoch 38: saving model to model/keypoint_classifier\\keypoint_classifier.hdf5\n",
      "22/22 [==============================] - 0s 5ms/step - loss: 1.2680 - accuracy: 0.5111 - val_loss: 0.9847 - val_accuracy: 0.6707\n",
      "Epoch 39/1000\n",
      " 1/22 [>.............................] - ETA: 0s - loss: 1.2193 - accuracy: 0.5703\n",
      "Epoch 39: saving model to model/keypoint_classifier\\keypoint_classifier.hdf5\n",
      "22/22 [==============================] - 0s 5ms/step - loss: 1.2671 - accuracy: 0.5045 - val_loss: 0.9750 - val_accuracy: 0.6630\n",
      "Epoch 40/1000\n",
      " 1/22 [>.............................] - ETA: 0s - loss: 1.1182 - accuracy: 0.5859\n",
      "Epoch 40: saving model to model/keypoint_classifier\\keypoint_classifier.hdf5\n",
      "22/22 [==============================] - 0s 5ms/step - loss: 1.2464 - accuracy: 0.5119 - val_loss: 0.9640 - val_accuracy: 0.6719\n",
      "Epoch 41/1000\n",
      " 1/22 [>.............................] - ETA: 0s - loss: 1.2108 - accuracy: 0.4922\n",
      "Epoch 41: saving model to model/keypoint_classifier\\keypoint_classifier.hdf5\n",
      "22/22 [==============================] - 0s 5ms/step - loss: 1.2536 - accuracy: 0.5185 - val_loss: 0.9594 - val_accuracy: 0.6897\n",
      "Epoch 42/1000\n",
      " 1/22 [>.............................] - ETA: 0s - loss: 1.1915 - accuracy: 0.5234\n",
      "Epoch 42: saving model to model/keypoint_classifier\\keypoint_classifier.hdf5\n",
      "22/22 [==============================] - 0s 5ms/step - loss: 1.2383 - accuracy: 0.5267 - val_loss: 0.9492 - val_accuracy: 0.7008\n",
      "Epoch 43/1000\n",
      " 1/22 [>.............................] - ETA: 0s - loss: 1.1225 - accuracy: 0.5547\n",
      "Epoch 43: saving model to model/keypoint_classifier\\keypoint_classifier.hdf5\n",
      "22/22 [==============================] - 0s 5ms/step - loss: 1.2268 - accuracy: 0.5263 - val_loss: 0.9328 - val_accuracy: 0.6841\n",
      "Epoch 44/1000\n",
      " 1/22 [>.............................] - ETA: 0s - loss: 1.2508 - accuracy: 0.4766\n",
      "Epoch 44: saving model to model/keypoint_classifier\\keypoint_classifier.hdf5\n",
      "22/22 [==============================] - 0s 6ms/step - loss: 1.2325 - accuracy: 0.5126 - val_loss: 0.9249 - val_accuracy: 0.6930\n",
      "Epoch 45/1000\n",
      " 1/22 [>.............................] - ETA: 0s - loss: 1.2288 - accuracy: 0.5469\n",
      "Epoch 45: saving model to model/keypoint_classifier\\keypoint_classifier.hdf5\n",
      "22/22 [==============================] - 0s 5ms/step - loss: 1.2212 - accuracy: 0.5241 - val_loss: 0.9277 - val_accuracy: 0.6874\n",
      "Epoch 46/1000\n",
      " 1/22 [>.............................] - ETA: 0s - loss: 1.2933 - accuracy: 0.4688\n",
      "Epoch 46: saving model to model/keypoint_classifier\\keypoint_classifier.hdf5\n",
      "22/22 [==============================] - 0s 5ms/step - loss: 1.2159 - accuracy: 0.5282 - val_loss: 0.9131 - val_accuracy: 0.6874\n",
      "Epoch 47/1000\n",
      " 1/22 [>.............................] - ETA: 0s - loss: 1.1243 - accuracy: 0.5625\n",
      "Epoch 47: saving model to model/keypoint_classifier\\keypoint_classifier.hdf5\n",
      "22/22 [==============================] - 0s 5ms/step - loss: 1.1932 - accuracy: 0.5404 - val_loss: 0.9037 - val_accuracy: 0.7063\n",
      "Epoch 48/1000\n",
      " 1/22 [>.............................] - ETA: 0s - loss: 1.2155 - accuracy: 0.5391\n",
      "Epoch 48: saving model to model/keypoint_classifier\\keypoint_classifier.hdf5\n",
      "22/22 [==============================] - 0s 5ms/step - loss: 1.1939 - accuracy: 0.5475 - val_loss: 0.8927 - val_accuracy: 0.7041\n",
      "Epoch 49/1000\n",
      " 1/22 [>.............................] - ETA: 0s - loss: 1.2117 - accuracy: 0.5156\n",
      "Epoch 49: saving model to model/keypoint_classifier\\keypoint_classifier.hdf5\n",
      "22/22 [==============================] - 0s 5ms/step - loss: 1.1991 - accuracy: 0.5289 - val_loss: 0.8894 - val_accuracy: 0.7141\n",
      "Epoch 50/1000\n",
      " 1/22 [>.............................] - ETA: 0s - loss: 1.2922 - accuracy: 0.5156\n",
      "Epoch 50: saving model to model/keypoint_classifier\\keypoint_classifier.hdf5\n",
      "22/22 [==============================] - 0s 5ms/step - loss: 1.1927 - accuracy: 0.5312 - val_loss: 0.8836 - val_accuracy: 0.7275\n",
      "Epoch 51/1000\n",
      " 1/22 [>.............................] - ETA: 0s - loss: 1.1387 - accuracy: 0.5469\n",
      "Epoch 51: saving model to model/keypoint_classifier\\keypoint_classifier.hdf5\n",
      "22/22 [==============================] - 0s 8ms/step - loss: 1.1838 - accuracy: 0.5371 - val_loss: 0.8773 - val_accuracy: 0.7386\n",
      "Epoch 52/1000\n",
      " 1/22 [>.............................] - ETA: 0s - loss: 1.0747 - accuracy: 0.6094\n",
      "Epoch 52: saving model to model/keypoint_classifier\\keypoint_classifier.hdf5\n",
      "22/22 [==============================] - 0s 4ms/step - loss: 1.1824 - accuracy: 0.5364 - val_loss: 0.8717 - val_accuracy: 0.7230\n",
      "Epoch 53/1000\n",
      " 1/22 [>.............................] - ETA: 0s - loss: 1.0622 - accuracy: 0.5703\n",
      "Epoch 53: saving model to model/keypoint_classifier\\keypoint_classifier.hdf5\n",
      "22/22 [==============================] - 0s 4ms/step - loss: 1.1696 - accuracy: 0.5367 - val_loss: 0.8636 - val_accuracy: 0.7341\n",
      "Epoch 54/1000\n",
      " 1/22 [>.............................] - ETA: 0s - loss: 1.1827 - accuracy: 0.5547\n",
      "Epoch 54: saving model to model/keypoint_classifier\\keypoint_classifier.hdf5\n",
      "22/22 [==============================] - 0s 4ms/step - loss: 1.1787 - accuracy: 0.5430 - val_loss: 0.8555 - val_accuracy: 0.7386\n",
      "Epoch 55/1000\n",
      " 1/22 [>.............................] - ETA: 0s - loss: 1.1545 - accuracy: 0.5625\n",
      "Epoch 55: saving model to model/keypoint_classifier\\keypoint_classifier.hdf5\n",
      "22/22 [==============================] - 0s 5ms/step - loss: 1.1671 - accuracy: 0.5486 - val_loss: 0.8471 - val_accuracy: 0.7597\n",
      "Epoch 56/1000\n",
      " 1/22 [>.............................] - ETA: 0s - loss: 1.1229 - accuracy: 0.5703\n",
      "Epoch 56: saving model to model/keypoint_classifier\\keypoint_classifier.hdf5\n",
      "22/22 [==============================] - 0s 5ms/step - loss: 1.1616 - accuracy: 0.5504 - val_loss: 0.8464 - val_accuracy: 0.7742\n",
      "Epoch 57/1000\n",
      " 1/22 [>.............................] - ETA: 0s - loss: 1.0845 - accuracy: 0.5859\n",
      "Epoch 57: saving model to model/keypoint_classifier\\keypoint_classifier.hdf5\n",
      "22/22 [==============================] - 0s 5ms/step - loss: 1.1482 - accuracy: 0.5612 - val_loss: 0.8468 - val_accuracy: 0.7508\n",
      "Epoch 58/1000\n",
      "11/22 [==============>...............] - ETA: 0s - loss: 1.1456 - accuracy: 0.5518\n",
      "Epoch 58: saving model to model/keypoint_classifier\\keypoint_classifier.hdf5\n",
      "22/22 [==============================] - 0s 7ms/step - loss: 1.1685 - accuracy: 0.5419 - val_loss: 0.8340 - val_accuracy: 0.7531\n",
      "Epoch 59/1000\n",
      " 1/22 [>.............................] - ETA: 0s - loss: 1.0512 - accuracy: 0.6406\n",
      "Epoch 59: saving model to model/keypoint_classifier\\keypoint_classifier.hdf5\n",
      "22/22 [==============================] - 0s 5ms/step - loss: 1.1244 - accuracy: 0.5597 - val_loss: 0.8268 - val_accuracy: 0.7575\n",
      "Epoch 60/1000\n",
      " 1/22 [>.............................] - ETA: 0s - loss: 1.2045 - accuracy: 0.4766\n",
      "Epoch 60: saving model to model/keypoint_classifier\\keypoint_classifier.hdf5\n",
      "22/22 [==============================] - 0s 4ms/step - loss: 1.1298 - accuracy: 0.5545 - val_loss: 0.8220 - val_accuracy: 0.7753\n",
      "Epoch 61/1000\n",
      " 1/22 [>.............................] - ETA: 0s - loss: 1.1700 - accuracy: 0.6016\n",
      "Epoch 61: saving model to model/keypoint_classifier\\keypoint_classifier.hdf5\n",
      "22/22 [==============================] - 0s 4ms/step - loss: 1.1484 - accuracy: 0.5597 - val_loss: 0.8125 - val_accuracy: 0.7620\n",
      "Epoch 62/1000\n",
      " 1/22 [>.............................] - ETA: 0s - loss: 1.0133 - accuracy: 0.6094\n",
      "Epoch 62: saving model to model/keypoint_classifier\\keypoint_classifier.hdf5\n",
      "22/22 [==============================] - 0s 4ms/step - loss: 1.1091 - accuracy: 0.5749 - val_loss: 0.8075 - val_accuracy: 0.7642\n",
      "Epoch 63/1000\n",
      " 1/22 [>.............................] - ETA: 0s - loss: 1.0690 - accuracy: 0.5938\n",
      "Epoch 63: saving model to model/keypoint_classifier\\keypoint_classifier.hdf5\n",
      "22/22 [==============================] - 0s 4ms/step - loss: 1.1436 - accuracy: 0.5568 - val_loss: 0.8082 - val_accuracy: 0.7664\n",
      "Epoch 64/1000\n",
      " 1/22 [>.............................] - ETA: 0s - loss: 1.0585 - accuracy: 0.5938\n",
      "Epoch 64: saving model to model/keypoint_classifier\\keypoint_classifier.hdf5\n",
      "22/22 [==============================] - 0s 4ms/step - loss: 1.1113 - accuracy: 0.5701 - val_loss: 0.8037 - val_accuracy: 0.7675\n",
      "Epoch 65/1000\n",
      " 1/22 [>.............................] - ETA: 0s - loss: 0.9830 - accuracy: 0.6562\n",
      "Epoch 65: saving model to model/keypoint_classifier\\keypoint_classifier.hdf5\n",
      "22/22 [==============================] - 0s 4ms/step - loss: 1.1252 - accuracy: 0.5579 - val_loss: 0.7935 - val_accuracy: 0.7753\n",
      "Epoch 66/1000\n",
      " 1/22 [>.............................] - ETA: 0s - loss: 1.1001 - accuracy: 0.6172\n",
      "Epoch 66: saving model to model/keypoint_classifier\\keypoint_classifier.hdf5\n",
      "22/22 [==============================] - 0s 4ms/step - loss: 1.1041 - accuracy: 0.5705 - val_loss: 0.7864 - val_accuracy: 0.7798\n",
      "Epoch 67/1000\n",
      " 1/22 [>.............................] - ETA: 0s - loss: 1.0668 - accuracy: 0.5625\n",
      "Epoch 67: saving model to model/keypoint_classifier\\keypoint_classifier.hdf5\n",
      "22/22 [==============================] - 0s 4ms/step - loss: 1.1141 - accuracy: 0.5590 - val_loss: 0.7784 - val_accuracy: 0.7775\n",
      "Epoch 68/1000\n",
      " 1/22 [>.............................] - ETA: 0s - loss: 1.0887 - accuracy: 0.5547\n",
      "Epoch 68: saving model to model/keypoint_classifier\\keypoint_classifier.hdf5\n",
      "22/22 [==============================] - 0s 4ms/step - loss: 1.1016 - accuracy: 0.5649 - val_loss: 0.7776 - val_accuracy: 0.7720\n",
      "Epoch 69/1000\n",
      " 1/22 [>.............................] - ETA: 0s - loss: 1.0630 - accuracy: 0.5703\n",
      "Epoch 69: saving model to model/keypoint_classifier\\keypoint_classifier.hdf5\n",
      "22/22 [==============================] - 0s 4ms/step - loss: 1.1133 - accuracy: 0.5723 - val_loss: 0.7733 - val_accuracy: 0.7709\n",
      "Epoch 70/1000\n",
      " 1/22 [>.............................] - ETA: 0s - loss: 1.0979 - accuracy: 0.5391\n",
      "Epoch 70: saving model to model/keypoint_classifier\\keypoint_classifier.hdf5\n",
      "22/22 [==============================] - 0s 4ms/step - loss: 1.0993 - accuracy: 0.5631 - val_loss: 0.7680 - val_accuracy: 0.7709\n",
      "Epoch 71/1000\n",
      " 1/22 [>.............................] - ETA: 0s - loss: 1.0792 - accuracy: 0.5938\n",
      "Epoch 71: saving model to model/keypoint_classifier\\keypoint_classifier.hdf5\n",
      "22/22 [==============================] - 0s 4ms/step - loss: 1.1083 - accuracy: 0.5671 - val_loss: 0.7666 - val_accuracy: 0.7742\n",
      "Epoch 72/1000\n",
      " 1/22 [>.............................] - ETA: 0s - loss: 1.0172 - accuracy: 0.6016\n",
      "Epoch 72: saving model to model/keypoint_classifier\\keypoint_classifier.hdf5\n",
      "22/22 [==============================] - 0s 4ms/step - loss: 1.0869 - accuracy: 0.5809 - val_loss: 0.7603 - val_accuracy: 0.7764\n",
      "Epoch 73/1000\n",
      " 1/22 [>.............................] - ETA: 0s - loss: 1.1118 - accuracy: 0.5781\n",
      "Epoch 73: saving model to model/keypoint_classifier\\keypoint_classifier.hdf5\n",
      "22/22 [==============================] - 0s 4ms/step - loss: 1.1004 - accuracy: 0.5649 - val_loss: 0.7549 - val_accuracy: 0.7831\n",
      "Epoch 74/1000\n",
      " 1/22 [>.............................] - ETA: 0s - loss: 1.0920 - accuracy: 0.5781\n",
      "Epoch 74: saving model to model/keypoint_classifier\\keypoint_classifier.hdf5\n",
      "22/22 [==============================] - 0s 4ms/step - loss: 1.0977 - accuracy: 0.5660 - val_loss: 0.7528 - val_accuracy: 0.7853\n",
      "Epoch 75/1000\n",
      " 1/22 [>.............................] - ETA: 0s - loss: 1.2299 - accuracy: 0.5078\n",
      "Epoch 75: saving model to model/keypoint_classifier\\keypoint_classifier.hdf5\n",
      "22/22 [==============================] - 0s 4ms/step - loss: 1.0797 - accuracy: 0.5820 - val_loss: 0.7495 - val_accuracy: 0.7909\n",
      "Epoch 76/1000\n",
      " 1/22 [>.............................] - ETA: 0s - loss: 1.1955 - accuracy: 0.5000\n",
      "Epoch 76: saving model to model/keypoint_classifier\\keypoint_classifier.hdf5\n",
      "22/22 [==============================] - 0s 4ms/step - loss: 1.0853 - accuracy: 0.5764 - val_loss: 0.7443 - val_accuracy: 0.7942\n",
      "Epoch 77/1000\n",
      " 1/22 [>.............................] - ETA: 0s - loss: 1.0470 - accuracy: 0.6250\n",
      "Epoch 77: saving model to model/keypoint_classifier\\keypoint_classifier.hdf5\n",
      "22/22 [==============================] - 0s 4ms/step - loss: 1.0752 - accuracy: 0.5883 - val_loss: 0.7407 - val_accuracy: 0.7842\n",
      "Epoch 78/1000\n",
      " 1/22 [>.............................] - ETA: 0s - loss: 1.1566 - accuracy: 0.5703\n",
      "Epoch 78: saving model to model/keypoint_classifier\\keypoint_classifier.hdf5\n",
      "22/22 [==============================] - 0s 4ms/step - loss: 1.0748 - accuracy: 0.5946 - val_loss: 0.7357 - val_accuracy: 0.7798\n",
      "Epoch 79/1000\n",
      " 1/22 [>.............................] - ETA: 0s - loss: 1.0540 - accuracy: 0.6016\n",
      "Epoch 79: saving model to model/keypoint_classifier\\keypoint_classifier.hdf5\n",
      "22/22 [==============================] - 0s 4ms/step - loss: 1.0525 - accuracy: 0.5886 - val_loss: 0.7256 - val_accuracy: 0.7998\n",
      "Epoch 80/1000\n",
      " 1/22 [>.............................] - ETA: 0s - loss: 1.1009 - accuracy: 0.5781\n",
      "Epoch 80: saving model to model/keypoint_classifier\\keypoint_classifier.hdf5\n",
      "22/22 [==============================] - 0s 4ms/step - loss: 1.0717 - accuracy: 0.5760 - val_loss: 0.7269 - val_accuracy: 0.7831\n",
      "Epoch 81/1000\n",
      " 1/22 [>.............................] - ETA: 0s - loss: 1.0469 - accuracy: 0.6250\n",
      "Epoch 81: saving model to model/keypoint_classifier\\keypoint_classifier.hdf5\n",
      "22/22 [==============================] - 0s 4ms/step - loss: 1.0570 - accuracy: 0.5875 - val_loss: 0.7140 - val_accuracy: 0.7920\n",
      "Epoch 82/1000\n",
      " 1/22 [>.............................] - ETA: 0s - loss: 1.1521 - accuracy: 0.4922\n",
      "Epoch 82: saving model to model/keypoint_classifier\\keypoint_classifier.hdf5\n",
      "22/22 [==============================] - 0s 4ms/step - loss: 1.0567 - accuracy: 0.5879 - val_loss: 0.7118 - val_accuracy: 0.7775\n",
      "Epoch 83/1000\n",
      " 1/22 [>.............................] - ETA: 0s - loss: 1.0195 - accuracy: 0.5703\n",
      "Epoch 83: saving model to model/keypoint_classifier\\keypoint_classifier.hdf5\n",
      "22/22 [==============================] - 0s 4ms/step - loss: 1.0647 - accuracy: 0.5883 - val_loss: 0.7168 - val_accuracy: 0.7842\n",
      "Epoch 84/1000\n",
      " 1/22 [>.............................] - ETA: 0s - loss: 0.9224 - accuracy: 0.6953\n",
      "Epoch 84: saving model to model/keypoint_classifier\\keypoint_classifier.hdf5\n",
      "22/22 [==============================] - 0s 4ms/step - loss: 1.0493 - accuracy: 0.5831 - val_loss: 0.7107 - val_accuracy: 0.7831\n",
      "Epoch 85/1000\n",
      " 1/22 [>.............................] - ETA: 0s - loss: 1.0775 - accuracy: 0.5312\n",
      "Epoch 85: saving model to model/keypoint_classifier\\keypoint_classifier.hdf5\n",
      "22/22 [==============================] - 0s 4ms/step - loss: 1.0460 - accuracy: 0.5957 - val_loss: 0.7013 - val_accuracy: 0.7942\n",
      "Epoch 86/1000\n",
      " 1/22 [>.............................] - ETA: 0s - loss: 1.2619 - accuracy: 0.4375\n",
      "Epoch 86: saving model to model/keypoint_classifier\\keypoint_classifier.hdf5\n",
      "22/22 [==============================] - 0s 4ms/step - loss: 1.0799 - accuracy: 0.5727 - val_loss: 0.7029 - val_accuracy: 0.8020\n",
      "Epoch 87/1000\n",
      " 1/22 [>.............................] - ETA: 0s - loss: 1.1516 - accuracy: 0.5000\n",
      "Epoch 87: saving model to model/keypoint_classifier\\keypoint_classifier.hdf5\n",
      "22/22 [==============================] - 0s 5ms/step - loss: 1.0380 - accuracy: 0.5968 - val_loss: 0.7055 - val_accuracy: 0.7898\n",
      "Epoch 88/1000\n",
      " 1/22 [>.............................] - ETA: 0s - loss: 1.0194 - accuracy: 0.6250\n",
      "Epoch 88: saving model to model/keypoint_classifier\\keypoint_classifier.hdf5\n",
      "22/22 [==============================] - 0s 4ms/step - loss: 1.0353 - accuracy: 0.5972 - val_loss: 0.6908 - val_accuracy: 0.7987\n",
      "Epoch 89/1000\n",
      " 1/22 [>.............................] - ETA: 0s - loss: 1.0040 - accuracy: 0.6406\n",
      "Epoch 89: saving model to model/keypoint_classifier\\keypoint_classifier.hdf5\n",
      "22/22 [==============================] - 0s 4ms/step - loss: 1.0216 - accuracy: 0.6046 - val_loss: 0.6921 - val_accuracy: 0.7864\n",
      "Epoch 90/1000\n",
      " 1/22 [>.............................] - ETA: 0s - loss: 1.0822 - accuracy: 0.5469\n",
      "Epoch 90: saving model to model/keypoint_classifier\\keypoint_classifier.hdf5\n",
      "22/22 [==============================] - 0s 4ms/step - loss: 1.0403 - accuracy: 0.5987 - val_loss: 0.6862 - val_accuracy: 0.7942\n",
      "Epoch 91/1000\n",
      " 1/22 [>.............................] - ETA: 0s - loss: 0.9026 - accuracy: 0.7031\n",
      "Epoch 91: saving model to model/keypoint_classifier\\keypoint_classifier.hdf5\n",
      "22/22 [==============================] - 0s 4ms/step - loss: 1.0340 - accuracy: 0.6005 - val_loss: 0.6770 - val_accuracy: 0.8109\n",
      "Epoch 92/1000\n",
      " 1/22 [>.............................] - ETA: 0s - loss: 1.1651 - accuracy: 0.5234\n",
      "Epoch 92: saving model to model/keypoint_classifier\\keypoint_classifier.hdf5\n",
      "22/22 [==============================] - 0s 4ms/step - loss: 1.0203 - accuracy: 0.5998 - val_loss: 0.6780 - val_accuracy: 0.8120\n",
      "Epoch 93/1000\n",
      " 1/22 [>.............................] - ETA: 0s - loss: 1.0223 - accuracy: 0.6250\n",
      "Epoch 93: saving model to model/keypoint_classifier\\keypoint_classifier.hdf5\n",
      "22/22 [==============================] - 0s 5ms/step - loss: 1.0273 - accuracy: 0.6027 - val_loss: 0.6737 - val_accuracy: 0.8231\n",
      "Epoch 94/1000\n",
      " 1/22 [>.............................] - ETA: 0s - loss: 0.9719 - accuracy: 0.6328\n",
      "Epoch 94: saving model to model/keypoint_classifier\\keypoint_classifier.hdf5\n",
      "22/22 [==============================] - 0s 4ms/step - loss: 1.0232 - accuracy: 0.6087 - val_loss: 0.6692 - val_accuracy: 0.8031\n",
      "Epoch 95/1000\n",
      " 1/22 [>.............................] - ETA: 0s - loss: 0.9401 - accuracy: 0.6875\n",
      "Epoch 95: saving model to model/keypoint_classifier\\keypoint_classifier.hdf5\n",
      "22/22 [==============================] - 0s 4ms/step - loss: 1.0098 - accuracy: 0.6094 - val_loss: 0.6591 - val_accuracy: 0.7920\n",
      "Epoch 96/1000\n",
      " 1/22 [>.............................] - ETA: 0s - loss: 0.9456 - accuracy: 0.6172\n",
      "Epoch 96: saving model to model/keypoint_classifier\\keypoint_classifier.hdf5\n",
      "22/22 [==============================] - 0s 4ms/step - loss: 1.0254 - accuracy: 0.5950 - val_loss: 0.6542 - val_accuracy: 0.8465\n",
      "Epoch 97/1000\n",
      " 1/22 [>.............................] - ETA: 0s - loss: 1.0355 - accuracy: 0.5547\n",
      "Epoch 97: saving model to model/keypoint_classifier\\keypoint_classifier.hdf5\n",
      "22/22 [==============================] - 0s 4ms/step - loss: 1.0147 - accuracy: 0.6065 - val_loss: 0.6476 - val_accuracy: 0.8042\n",
      "Epoch 98/1000\n",
      " 1/22 [>.............................] - ETA: 0s - loss: 0.9512 - accuracy: 0.6328\n",
      "Epoch 98: saving model to model/keypoint_classifier\\keypoint_classifier.hdf5\n",
      "22/22 [==============================] - 0s 4ms/step - loss: 0.9973 - accuracy: 0.6031 - val_loss: 0.6522 - val_accuracy: 0.8020\n",
      "Epoch 99/1000\n",
      " 1/22 [>.............................] - ETA: 0s - loss: 1.1073 - accuracy: 0.5547\n",
      "Epoch 99: saving model to model/keypoint_classifier\\keypoint_classifier.hdf5\n",
      "22/22 [==============================] - 0s 4ms/step - loss: 1.0171 - accuracy: 0.5987 - val_loss: 0.6551 - val_accuracy: 0.8076\n",
      "Epoch 100/1000\n",
      " 1/22 [>.............................] - ETA: 0s - loss: 1.0425 - accuracy: 0.6250\n",
      "Epoch 100: saving model to model/keypoint_classifier\\keypoint_classifier.hdf5\n",
      "22/22 [==============================] - 0s 4ms/step - loss: 1.0061 - accuracy: 0.6128 - val_loss: 0.6414 - val_accuracy: 0.8298\n",
      "Epoch 101/1000\n",
      " 1/22 [>.............................] - ETA: 0s - loss: 1.0562 - accuracy: 0.5938\n",
      "Epoch 101: saving model to model/keypoint_classifier\\keypoint_classifier.hdf5\n",
      "22/22 [==============================] - 0s 4ms/step - loss: 1.0057 - accuracy: 0.6135 - val_loss: 0.6406 - val_accuracy: 0.8187\n",
      "Epoch 102/1000\n",
      " 1/22 [>.............................] - ETA: 0s - loss: 1.0196 - accuracy: 0.5938\n",
      "Epoch 102: saving model to model/keypoint_classifier\\keypoint_classifier.hdf5\n",
      "22/22 [==============================] - 0s 4ms/step - loss: 1.0030 - accuracy: 0.6135 - val_loss: 0.6343 - val_accuracy: 0.8176\n",
      "Epoch 103/1000\n",
      " 1/22 [>.............................] - ETA: 0s - loss: 1.1304 - accuracy: 0.5625\n",
      "Epoch 103: saving model to model/keypoint_classifier\\keypoint_classifier.hdf5\n",
      "22/22 [==============================] - 0s 4ms/step - loss: 1.0198 - accuracy: 0.5990 - val_loss: 0.6282 - val_accuracy: 0.8053\n",
      "Epoch 104/1000\n",
      " 1/22 [>.............................] - ETA: 0s - loss: 1.0609 - accuracy: 0.6172\n",
      "Epoch 104: saving model to model/keypoint_classifier\\keypoint_classifier.hdf5\n",
      "22/22 [==============================] - 0s 4ms/step - loss: 1.0043 - accuracy: 0.6039 - val_loss: 0.6317 - val_accuracy: 0.8120\n",
      "Epoch 105/1000\n",
      " 1/22 [>.............................] - ETA: 0s - loss: 1.0374 - accuracy: 0.5938\n",
      "Epoch 105: saving model to model/keypoint_classifier\\keypoint_classifier.hdf5\n",
      "22/22 [==============================] - 0s 5ms/step - loss: 1.0135 - accuracy: 0.6039 - val_loss: 0.6325 - val_accuracy: 0.8120\n",
      "Epoch 106/1000\n",
      " 1/22 [>.............................] - ETA: 0s - loss: 0.9048 - accuracy: 0.6484\n",
      "Epoch 106: saving model to model/keypoint_classifier\\keypoint_classifier.hdf5\n",
      "22/22 [==============================] - 0s 4ms/step - loss: 1.0049 - accuracy: 0.6098 - val_loss: 0.6299 - val_accuracy: 0.8398\n",
      "Epoch 107/1000\n",
      " 1/22 [>.............................] - ETA: 0s - loss: 0.8160 - accuracy: 0.7344\n",
      "Epoch 107: saving model to model/keypoint_classifier\\keypoint_classifier.hdf5\n",
      "22/22 [==============================] - 0s 5ms/step - loss: 0.9775 - accuracy: 0.6287 - val_loss: 0.6280 - val_accuracy: 0.8242\n",
      "Epoch 108/1000\n",
      " 1/22 [>.............................] - ETA: 0s - loss: 0.9048 - accuracy: 0.6719\n",
      "Epoch 108: saving model to model/keypoint_classifier\\keypoint_classifier.hdf5\n",
      "22/22 [==============================] - 0s 5ms/step - loss: 0.9881 - accuracy: 0.6217 - val_loss: 0.6235 - val_accuracy: 0.8254\n",
      "Epoch 109/1000\n",
      " 1/22 [>.............................] - ETA: 0s - loss: 0.9885 - accuracy: 0.6328\n",
      "Epoch 109: saving model to model/keypoint_classifier\\keypoint_classifier.hdf5\n",
      "22/22 [==============================] - 0s 4ms/step - loss: 1.0128 - accuracy: 0.6087 - val_loss: 0.6209 - val_accuracy: 0.8387\n",
      "Epoch 110/1000\n",
      " 1/22 [>.............................] - ETA: 0s - loss: 1.0175 - accuracy: 0.5625\n",
      "Epoch 110: saving model to model/keypoint_classifier\\keypoint_classifier.hdf5\n",
      "22/22 [==============================] - 0s 4ms/step - loss: 0.9940 - accuracy: 0.6231 - val_loss: 0.6199 - val_accuracy: 0.8009\n",
      "Epoch 111/1000\n",
      " 1/22 [>.............................] - ETA: 0s - loss: 0.9632 - accuracy: 0.6641\n",
      "Epoch 111: saving model to model/keypoint_classifier\\keypoint_classifier.hdf5\n",
      "22/22 [==============================] - 0s 5ms/step - loss: 0.9804 - accuracy: 0.6272 - val_loss: 0.6152 - val_accuracy: 0.8120\n",
      "Epoch 112/1000\n",
      " 1/22 [>.............................] - ETA: 0s - loss: 0.9017 - accuracy: 0.6094\n",
      "Epoch 112: saving model to model/keypoint_classifier\\keypoint_classifier.hdf5\n",
      "22/22 [==============================] - 0s 5ms/step - loss: 1.0135 - accuracy: 0.6079 - val_loss: 0.6219 - val_accuracy: 0.8009\n",
      "Epoch 113/1000\n",
      " 1/22 [>.............................] - ETA: 0s - loss: 0.9460 - accuracy: 0.6094\n",
      "Epoch 113: saving model to model/keypoint_classifier\\keypoint_classifier.hdf5\n",
      "22/22 [==============================] - 0s 4ms/step - loss: 0.9858 - accuracy: 0.6191 - val_loss: 0.6161 - val_accuracy: 0.8254\n",
      "Epoch 114/1000\n",
      " 1/22 [>.............................] - ETA: 0s - loss: 0.9883 - accuracy: 0.6406\n",
      "Epoch 114: saving model to model/keypoint_classifier\\keypoint_classifier.hdf5\n",
      "22/22 [==============================] - 0s 4ms/step - loss: 0.9780 - accuracy: 0.6302 - val_loss: 0.6092 - val_accuracy: 0.8343\n",
      "Epoch 115/1000\n",
      " 1/22 [>.............................] - ETA: 0s - loss: 1.0196 - accuracy: 0.6719\n",
      "Epoch 115: saving model to model/keypoint_classifier\\keypoint_classifier.hdf5\n",
      "22/22 [==============================] - 0s 4ms/step - loss: 0.9869 - accuracy: 0.6257 - val_loss: 0.6043 - val_accuracy: 0.8042\n",
      "Epoch 116/1000\n",
      " 1/22 [>.............................] - ETA: 0s - loss: 1.0583 - accuracy: 0.6406\n",
      "Epoch 116: saving model to model/keypoint_classifier\\keypoint_classifier.hdf5\n",
      "22/22 [==============================] - 0s 4ms/step - loss: 0.9857 - accuracy: 0.6135 - val_loss: 0.5970 - val_accuracy: 0.8142\n",
      "Epoch 117/1000\n",
      " 1/22 [>.............................] - ETA: 0s - loss: 0.8740 - accuracy: 0.6406\n",
      "Epoch 117: saving model to model/keypoint_classifier\\keypoint_classifier.hdf5\n",
      "22/22 [==============================] - 0s 4ms/step - loss: 0.9723 - accuracy: 0.6246 - val_loss: 0.5991 - val_accuracy: 0.8298\n",
      "Epoch 118/1000\n",
      " 1/22 [>.............................] - ETA: 0s - loss: 0.9923 - accuracy: 0.6016\n",
      "Epoch 118: saving model to model/keypoint_classifier\\keypoint_classifier.hdf5\n",
      "22/22 [==============================] - 0s 4ms/step - loss: 0.9656 - accuracy: 0.6313 - val_loss: 0.5952 - val_accuracy: 0.8343\n",
      "Epoch 119/1000\n",
      " 1/22 [>.............................] - ETA: 0s - loss: 1.1042 - accuracy: 0.5859\n",
      "Epoch 119: saving model to model/keypoint_classifier\\keypoint_classifier.hdf5\n",
      "22/22 [==============================] - 0s 4ms/step - loss: 0.9650 - accuracy: 0.6224 - val_loss: 0.5933 - val_accuracy: 0.8065\n",
      "Epoch 120/1000\n",
      " 1/22 [>.............................] - ETA: 0s - loss: 0.9513 - accuracy: 0.6406\n",
      "Epoch 120: saving model to model/keypoint_classifier\\keypoint_classifier.hdf5\n",
      "22/22 [==============================] - 0s 4ms/step - loss: 0.9670 - accuracy: 0.6317 - val_loss: 0.5899 - val_accuracy: 0.8276\n",
      "Epoch 121/1000\n",
      "19/22 [========================>.....] - ETA: 0s - loss: 0.9939 - accuracy: 0.6217\n",
      "Epoch 121: saving model to model/keypoint_classifier\\keypoint_classifier.hdf5\n",
      "22/22 [==============================] - 0s 7ms/step - loss: 1.0004 - accuracy: 0.6176 - val_loss: 0.5978 - val_accuracy: 0.8254\n",
      "Epoch 122/1000\n",
      " 1/22 [>.............................] - ETA: 0s - loss: 1.0007 - accuracy: 0.5781\n",
      "Epoch 122: saving model to model/keypoint_classifier\\keypoint_classifier.hdf5\n",
      "22/22 [==============================] - 0s 4ms/step - loss: 0.9670 - accuracy: 0.6113 - val_loss: 0.5921 - val_accuracy: 0.8376\n",
      "Epoch 123/1000\n",
      " 1/22 [>.............................] - ETA: 0s - loss: 0.8255 - accuracy: 0.6953\n",
      "Epoch 123: saving model to model/keypoint_classifier\\keypoint_classifier.hdf5\n",
      "22/22 [==============================] - 0s 4ms/step - loss: 0.9815 - accuracy: 0.6235 - val_loss: 0.5959 - val_accuracy: 0.8242\n",
      "Epoch 124/1000\n",
      " 1/22 [>.............................] - ETA: 0s - loss: 1.0254 - accuracy: 0.5703\n",
      "Epoch 124: saving model to model/keypoint_classifier\\keypoint_classifier.hdf5\n",
      "22/22 [==============================] - 0s 4ms/step - loss: 0.9902 - accuracy: 0.6168 - val_loss: 0.5905 - val_accuracy: 0.8331\n",
      "Epoch 125/1000\n",
      " 1/22 [>.............................] - ETA: 0s - loss: 0.8669 - accuracy: 0.6797\n",
      "Epoch 125: saving model to model/keypoint_classifier\\keypoint_classifier.hdf5\n",
      "22/22 [==============================] - 0s 5ms/step - loss: 0.9742 - accuracy: 0.6239 - val_loss: 0.5927 - val_accuracy: 0.8176\n",
      "Epoch 126/1000\n",
      " 1/22 [>.............................] - ETA: 0s - loss: 1.0286 - accuracy: 0.6094\n",
      "Epoch 126: saving model to model/keypoint_classifier\\keypoint_classifier.hdf5\n",
      "22/22 [==============================] - 0s 5ms/step - loss: 0.9599 - accuracy: 0.6376 - val_loss: 0.5896 - val_accuracy: 0.8554\n",
      "Epoch 127/1000\n",
      " 1/22 [>.............................] - ETA: 0s - loss: 0.8956 - accuracy: 0.6016\n",
      "Epoch 127: saving model to model/keypoint_classifier\\keypoint_classifier.hdf5\n",
      "22/22 [==============================] - 0s 5ms/step - loss: 0.9658 - accuracy: 0.6198 - val_loss: 0.5924 - val_accuracy: 0.8398\n",
      "Epoch 128/1000\n",
      " 1/22 [>.............................] - ETA: 0s - loss: 0.9614 - accuracy: 0.6094\n",
      "Epoch 128: saving model to model/keypoint_classifier\\keypoint_classifier.hdf5\n",
      "22/22 [==============================] - 0s 5ms/step - loss: 0.9573 - accuracy: 0.6250 - val_loss: 0.5858 - val_accuracy: 0.8476\n",
      "Epoch 129/1000\n",
      " 1/22 [>.............................] - ETA: 0s - loss: 1.0829 - accuracy: 0.5703\n",
      "Epoch 129: saving model to model/keypoint_classifier\\keypoint_classifier.hdf5\n",
      "22/22 [==============================] - 0s 5ms/step - loss: 0.9485 - accuracy: 0.6328 - val_loss: 0.5754 - val_accuracy: 0.8320\n",
      "Epoch 130/1000\n",
      " 1/22 [>.............................] - ETA: 0s - loss: 0.9404 - accuracy: 0.5938\n",
      "Epoch 130: saving model to model/keypoint_classifier\\keypoint_classifier.hdf5\n",
      "22/22 [==============================] - 0s 5ms/step - loss: 0.9637 - accuracy: 0.6191 - val_loss: 0.5772 - val_accuracy: 0.8209\n",
      "Epoch 131/1000\n",
      " 1/22 [>.............................] - ETA: 0s - loss: 0.9380 - accuracy: 0.6406\n",
      "Epoch 131: saving model to model/keypoint_classifier\\keypoint_classifier.hdf5\n",
      "22/22 [==============================] - 0s 5ms/step - loss: 0.9779 - accuracy: 0.6183 - val_loss: 0.5732 - val_accuracy: 0.8165\n",
      "Epoch 132/1000\n",
      " 1/22 [>.............................] - ETA: 0s - loss: 0.9730 - accuracy: 0.5703\n",
      "Epoch 132: saving model to model/keypoint_classifier\\keypoint_classifier.hdf5\n",
      "22/22 [==============================] - 0s 4ms/step - loss: 0.9461 - accuracy: 0.6194 - val_loss: 0.5721 - val_accuracy: 0.8799\n",
      "Epoch 133/1000\n",
      " 1/22 [>.............................] - ETA: 0s - loss: 1.0170 - accuracy: 0.6250\n",
      "Epoch 133: saving model to model/keypoint_classifier\\keypoint_classifier.hdf5\n",
      "22/22 [==============================] - 0s 4ms/step - loss: 0.9366 - accuracy: 0.6458 - val_loss: 0.5727 - val_accuracy: 0.8098\n",
      "Epoch 134/1000\n",
      " 1/22 [>.............................] - ETA: 0s - loss: 0.9433 - accuracy: 0.5625\n",
      "Epoch 134: saving model to model/keypoint_classifier\\keypoint_classifier.hdf5\n",
      "22/22 [==============================] - 0s 4ms/step - loss: 0.9425 - accuracy: 0.6287 - val_loss: 0.5651 - val_accuracy: 0.8354\n",
      "Epoch 135/1000\n",
      " 1/22 [>.............................] - ETA: 0s - loss: 0.8798 - accuracy: 0.6406\n",
      "Epoch 135: saving model to model/keypoint_classifier\\keypoint_classifier.hdf5\n",
      "22/22 [==============================] - 0s 4ms/step - loss: 0.9523 - accuracy: 0.6402 - val_loss: 0.5642 - val_accuracy: 0.8643\n",
      "Epoch 136/1000\n",
      " 1/22 [>.............................] - ETA: 0s - loss: 0.9447 - accuracy: 0.6562\n",
      "Epoch 136: saving model to model/keypoint_classifier\\keypoint_classifier.hdf5\n",
      "22/22 [==============================] - 0s 4ms/step - loss: 0.9553 - accuracy: 0.6191 - val_loss: 0.5610 - val_accuracy: 0.8465\n",
      "Epoch 137/1000\n",
      " 1/22 [>.............................] - ETA: 0s - loss: 0.8847 - accuracy: 0.6406\n",
      "Epoch 137: saving model to model/keypoint_classifier\\keypoint_classifier.hdf5\n",
      "22/22 [==============================] - 0s 5ms/step - loss: 0.9650 - accuracy: 0.6246 - val_loss: 0.5595 - val_accuracy: 0.8432\n",
      "Epoch 138/1000\n",
      " 1/22 [>.............................] - ETA: 0s - loss: 1.0289 - accuracy: 0.5781\n",
      "Epoch 138: saving model to model/keypoint_classifier\\keypoint_classifier.hdf5\n",
      "22/22 [==============================] - 0s 5ms/step - loss: 0.9337 - accuracy: 0.6424 - val_loss: 0.5606 - val_accuracy: 0.8387\n",
      "Epoch 139/1000\n",
      " 1/22 [>.............................] - ETA: 0s - loss: 0.9726 - accuracy: 0.6719\n",
      "Epoch 139: saving model to model/keypoint_classifier\\keypoint_classifier.hdf5\n",
      "22/22 [==============================] - 0s 5ms/step - loss: 0.9438 - accuracy: 0.6354 - val_loss: 0.5639 - val_accuracy: 0.8254\n",
      "Epoch 140/1000\n",
      " 1/22 [>.............................] - ETA: 0s - loss: 1.1041 - accuracy: 0.5312\n",
      "Epoch 140: saving model to model/keypoint_classifier\\keypoint_classifier.hdf5\n",
      "22/22 [==============================] - 0s 8ms/step - loss: 0.9408 - accuracy: 0.6354 - val_loss: 0.5571 - val_accuracy: 0.8387\n",
      "Epoch 141/1000\n",
      " 1/22 [>.............................] - ETA: 0s - loss: 1.1045 - accuracy: 0.6406\n",
      "Epoch 141: saving model to model/keypoint_classifier\\keypoint_classifier.hdf5\n",
      "22/22 [==============================] - 0s 4ms/step - loss: 0.9771 - accuracy: 0.6231 - val_loss: 0.5686 - val_accuracy: 0.8343\n",
      "Epoch 142/1000\n",
      " 1/22 [>.............................] - ETA: 0s - loss: 0.9848 - accuracy: 0.6328\n",
      "Epoch 142: saving model to model/keypoint_classifier\\keypoint_classifier.hdf5\n",
      "22/22 [==============================] - 0s 4ms/step - loss: 0.9456 - accuracy: 0.6291 - val_loss: 0.5594 - val_accuracy: 0.8176\n",
      "Epoch 143/1000\n",
      " 1/22 [>.............................] - ETA: 0s - loss: 0.9000 - accuracy: 0.6562\n",
      "Epoch 143: saving model to model/keypoint_classifier\\keypoint_classifier.hdf5\n",
      "22/22 [==============================] - 0s 4ms/step - loss: 0.9437 - accuracy: 0.6272 - val_loss: 0.5532 - val_accuracy: 0.8142\n",
      "Epoch 144/1000\n",
      " 1/22 [>.............................] - ETA: 0s - loss: 0.9799 - accuracy: 0.5781\n",
      "Epoch 144: saving model to model/keypoint_classifier\\keypoint_classifier.hdf5\n",
      "22/22 [==============================] - 0s 5ms/step - loss: 0.9370 - accuracy: 0.6398 - val_loss: 0.5551 - val_accuracy: 0.8554\n",
      "Epoch 145/1000\n",
      " 1/22 [>.............................] - ETA: 0s - loss: 0.8499 - accuracy: 0.6484\n",
      "Epoch 145: saving model to model/keypoint_classifier\\keypoint_classifier.hdf5\n",
      "22/22 [==============================] - 0s 6ms/step - loss: 0.9367 - accuracy: 0.6358 - val_loss: 0.5583 - val_accuracy: 0.8420\n",
      "Epoch 146/1000\n",
      "18/22 [=======================>......] - ETA: 0s - loss: 0.9458 - accuracy: 0.6354\n",
      "Epoch 146: saving model to model/keypoint_classifier\\keypoint_classifier.hdf5\n",
      "22/22 [==============================] - 0s 6ms/step - loss: 0.9431 - accuracy: 0.6320 - val_loss: 0.5593 - val_accuracy: 0.8209\n",
      "Epoch 147/1000\n",
      " 1/22 [>.............................] - ETA: 0s - loss: 1.0261 - accuracy: 0.5781\n",
      "Epoch 147: saving model to model/keypoint_classifier\\keypoint_classifier.hdf5\n",
      "22/22 [==============================] - 0s 4ms/step - loss: 0.9262 - accuracy: 0.6369 - val_loss: 0.5543 - val_accuracy: 0.8420\n",
      "Epoch 148/1000\n",
      " 1/22 [>.............................] - ETA: 0s - loss: 1.0438 - accuracy: 0.5547\n",
      "Epoch 148: saving model to model/keypoint_classifier\\keypoint_classifier.hdf5\n",
      "22/22 [==============================] - 0s 4ms/step - loss: 0.9469 - accuracy: 0.6246 - val_loss: 0.5566 - val_accuracy: 0.8365\n",
      "Epoch 149/1000\n",
      " 1/22 [>.............................] - ETA: 0s - loss: 0.9367 - accuracy: 0.6719\n",
      "Epoch 149: saving model to model/keypoint_classifier\\keypoint_classifier.hdf5\n",
      "22/22 [==============================] - 0s 4ms/step - loss: 0.9269 - accuracy: 0.6406 - val_loss: 0.5567 - val_accuracy: 0.8331\n",
      "Epoch 150/1000\n",
      " 1/22 [>.............................] - ETA: 0s - loss: 0.9408 - accuracy: 0.6328\n",
      "Epoch 150: saving model to model/keypoint_classifier\\keypoint_classifier.hdf5\n",
      "22/22 [==============================] - 0s 4ms/step - loss: 0.9300 - accuracy: 0.6306 - val_loss: 0.5460 - val_accuracy: 0.8532\n",
      "Epoch 151/1000\n",
      " 1/22 [>.............................] - ETA: 0s - loss: 0.8335 - accuracy: 0.6719\n",
      "Epoch 151: saving model to model/keypoint_classifier\\keypoint_classifier.hdf5\n",
      "22/22 [==============================] - 0s 4ms/step - loss: 0.9312 - accuracy: 0.6465 - val_loss: 0.5401 - val_accuracy: 0.8799\n",
      "Epoch 152/1000\n",
      " 1/22 [>.............................] - ETA: 0s - loss: 0.8614 - accuracy: 0.6406\n",
      "Epoch 152: saving model to model/keypoint_classifier\\keypoint_classifier.hdf5\n",
      "22/22 [==============================] - 0s 4ms/step - loss: 0.9685 - accuracy: 0.6265 - val_loss: 0.5518 - val_accuracy: 0.8343\n",
      "Epoch 153/1000\n",
      " 1/22 [>.............................] - ETA: 0s - loss: 0.9377 - accuracy: 0.6250\n",
      "Epoch 153: saving model to model/keypoint_classifier\\keypoint_classifier.hdf5\n",
      "22/22 [==============================] - 0s 5ms/step - loss: 0.9394 - accuracy: 0.6235 - val_loss: 0.5697 - val_accuracy: 0.8131\n",
      "Epoch 154/1000\n",
      " 1/22 [>.............................] - ETA: 0s - loss: 1.0278 - accuracy: 0.6328\n",
      "Epoch 154: saving model to model/keypoint_classifier\\keypoint_classifier.hdf5\n",
      "22/22 [==============================] - 0s 4ms/step - loss: 0.9566 - accuracy: 0.6365 - val_loss: 0.5535 - val_accuracy: 0.8498\n",
      "Epoch 155/1000\n",
      " 1/22 [>.............................] - ETA: 0s - loss: 0.9973 - accuracy: 0.6094\n",
      "Epoch 155: saving model to model/keypoint_classifier\\keypoint_classifier.hdf5\n",
      "22/22 [==============================] - 0s 5ms/step - loss: 0.9299 - accuracy: 0.6243 - val_loss: 0.5485 - val_accuracy: 0.8320\n",
      "Epoch 156/1000\n",
      " 1/22 [>.............................] - ETA: 0s - loss: 0.9055 - accuracy: 0.6875\n",
      "Epoch 156: saving model to model/keypoint_classifier\\keypoint_classifier.hdf5\n",
      "22/22 [==============================] - 0s 4ms/step - loss: 0.9403 - accuracy: 0.6335 - val_loss: 0.5467 - val_accuracy: 0.8354\n",
      "Epoch 157/1000\n",
      " 1/22 [>.............................] - ETA: 0s - loss: 0.8584 - accuracy: 0.7266\n",
      "Epoch 157: saving model to model/keypoint_classifier\\keypoint_classifier.hdf5\n",
      "22/22 [==============================] - 0s 4ms/step - loss: 0.9321 - accuracy: 0.6409 - val_loss: 0.5467 - val_accuracy: 0.8409\n",
      "Epoch 158/1000\n",
      " 1/22 [>.............................] - ETA: 0s - loss: 0.8570 - accuracy: 0.6250\n",
      "Epoch 158: saving model to model/keypoint_classifier\\keypoint_classifier.hdf5\n",
      "22/22 [==============================] - 0s 4ms/step - loss: 0.9333 - accuracy: 0.6384 - val_loss: 0.5434 - val_accuracy: 0.8487\n",
      "Epoch 159/1000\n",
      " 1/22 [>.............................] - ETA: 0s - loss: 0.9584 - accuracy: 0.6406\n",
      "Epoch 159: saving model to model/keypoint_classifier\\keypoint_classifier.hdf5\n",
      "22/22 [==============================] - 0s 4ms/step - loss: 0.9315 - accuracy: 0.6335 - val_loss: 0.5384 - val_accuracy: 0.8665\n",
      "Epoch 160/1000\n",
      " 1/22 [>.............................] - ETA: 0s - loss: 0.9017 - accuracy: 0.6172\n",
      "Epoch 160: saving model to model/keypoint_classifier\\keypoint_classifier.hdf5\n",
      "22/22 [==============================] - 0s 4ms/step - loss: 0.9325 - accuracy: 0.6387 - val_loss: 0.5405 - val_accuracy: 0.8932\n",
      "Epoch 161/1000\n",
      " 1/22 [>.............................] - ETA: 0s - loss: 1.0018 - accuracy: 0.6094"
     ]
    }
   ],
   "source": [
    "model.fit(\n",
    "    X_train,\n",
    "    y_train,\n",
    "    epochs=1000,\n",
    "    batch_size=128,\n",
    "    validation_data=(X_test, y_test),\n",
    "    callbacks=[cp_callback, es_callback]\n",
    ")"
   ]
  },
  {
   "cell_type": "code",
   "execution_count": null,
   "metadata": {
    "colab": {
     "base_uri": "https://localhost:8080/"
    },
    "id": "pxvb2Y299hE3",
    "outputId": "59eb3185-2e37-4b9e-bc9d-ab1b8ac29b7f"
   },
   "outputs": [],
   "source": [
    "# Model evaluation\n",
    "val_loss, val_acc = model.evaluate(X_test, y_test, batch_size=128)"
   ]
  },
  {
   "cell_type": "code",
   "execution_count": null,
   "metadata": {
    "id": "RBkmDeUW9hE4"
   },
   "outputs": [],
   "source": [
    "# Loading the saved model\n",
    "model = tf.keras.models.load_model(model_save_path)"
   ]
  },
  {
   "cell_type": "code",
   "execution_count": null,
   "metadata": {
    "colab": {
     "base_uri": "https://localhost:8080/"
    },
    "id": "tFz9Tb0I9hE4",
    "outputId": "1c3b3528-54ae-4ee2-ab04-77429211cbef"
   },
   "outputs": [],
   "source": [
    "# Inference test\n",
    "predict_result = model.predict(np.array([X_test[0]]))\n",
    "print(np.squeeze(predict_result))\n",
    "print(np.argmax(np.squeeze(predict_result)))"
   ]
  },
  {
   "cell_type": "markdown",
   "metadata": {
    "id": "S3U4yNWx9hE4"
   },
   "source": [
    "# Confusion matrix"
   ]
  },
  {
   "cell_type": "code",
   "execution_count": null,
   "metadata": {
    "colab": {
     "base_uri": "https://localhost:8080/",
     "height": 582
    },
    "id": "AP1V6SCk9hE5",
    "outputId": "08e41a80-7a4a-4619-8125-ecc371368d19"
   },
   "outputs": [],
   "source": [
    "import pandas as pd\n",
    "import seaborn as sns\n",
    "import matplotlib.pyplot as plt\n",
    "from sklearn.metrics import confusion_matrix, classification_report\n",
    "\n",
    "def print_confusion_matrix(y_true, y_pred, report=True):\n",
    "    labels = sorted(list(set(y_true)))\n",
    "    cmx_data = confusion_matrix(y_true, y_pred, labels=labels)\n",
    "    \n",
    "    df_cmx = pd.DataFrame(cmx_data, index=labels, columns=labels)\n",
    " \n",
    "    fig, ax = plt.subplots(figsize=(7, 6))\n",
    "    sns.heatmap(df_cmx, annot=True, fmt='g' ,square=False)\n",
    "    ax.set_ylim(len(set(y_true)), 0)\n",
    "    plt.show()\n",
    "    \n",
    "    if report:\n",
    "        print('Classification Report')\n",
    "        print(classification_report(y_test, y_pred))\n",
    "\n",
    "Y_pred = model.predict(X_test)\n",
    "y_pred = np.argmax(Y_pred, axis=1)\n",
    "\n",
    "print_confusion_matrix(y_test, y_pred)"
   ]
  },
  {
   "cell_type": "markdown",
   "metadata": {
    "id": "FNP6aqzc9hE5"
   },
   "source": [
    "# Convert to model for Tensorflow-Lite"
   ]
  },
  {
   "cell_type": "code",
   "execution_count": null,
   "metadata": {
    "id": "ODjnYyld9hE6"
   },
   "outputs": [],
   "source": [
    "# Save as a model dedicated to inference\n",
    "model.save(model_save_path, include_optimizer=False)"
   ]
  },
  {
   "cell_type": "code",
   "execution_count": null,
   "metadata": {
    "colab": {
     "base_uri": "https://localhost:8080/"
    },
    "id": "zRfuK8Y59hE6",
    "outputId": "a4ca585c-b5d5-4244-8291-8674063209bb"
   },
   "outputs": [],
   "source": [
    "# Transform model (quantization)\n",
    "\n",
    "converter = tf.lite.TFLiteConverter.from_keras_model(model)\n",
    "converter.optimizations = [tf.lite.Optimize.DEFAULT]\n",
    "tflite_quantized_model = converter.convert()\n",
    "\n",
    "open(tflite_save_path, 'wb').write(tflite_quantized_model)"
   ]
  },
  {
   "cell_type": "markdown",
   "metadata": {
    "id": "CHBPBXdx9hE6"
   },
   "source": [
    "# Inference test"
   ]
  },
  {
   "cell_type": "code",
   "execution_count": null,
   "metadata": {
    "id": "mGAzLocO9hE7"
   },
   "outputs": [],
   "source": [
    "interpreter = tf.lite.Interpreter(model_path=tflite_save_path)\n",
    "interpreter.allocate_tensors()"
   ]
  },
  {
   "cell_type": "code",
   "execution_count": null,
   "metadata": {
    "id": "oQuDK8YS9hE7"
   },
   "outputs": [],
   "source": [
    "# Get I / O tensor\n",
    "input_details = interpreter.get_input_details()\n",
    "output_details = interpreter.get_output_details()"
   ]
  },
  {
   "cell_type": "code",
   "execution_count": null,
   "metadata": {
    "id": "2_ixAf_l9hE7"
   },
   "outputs": [],
   "source": [
    "interpreter.set_tensor(input_details[0]['index'], np.array([X_test[0]]))"
   ]
  },
  {
   "cell_type": "code",
   "execution_count": null,
   "metadata": {
    "colab": {
     "base_uri": "https://localhost:8080/"
    },
    "id": "s4FoAnuc9hE7",
    "outputId": "91f18257-8d8b-4ef3-c558-e9b5f94fabbf",
    "scrolled": true
   },
   "outputs": [],
   "source": [
    "%%time\n",
    "# Inference implementation\n",
    "interpreter.invoke()\n",
    "tflite_results = interpreter.get_tensor(output_details[0]['index'])"
   ]
  },
  {
   "cell_type": "code",
   "execution_count": null,
   "metadata": {
    "colab": {
     "base_uri": "https://localhost:8080/"
    },
    "id": "vONjp19J9hE8",
    "outputId": "77205e24-fd00-42c4-f7b6-e06e527c2cba"
   },
   "outputs": [],
   "source": [
    "print(np.squeeze(tflite_results))\n",
    "print(np.argmax(np.squeeze(tflite_results)))"
   ]
  }
 ],
 "metadata": {
  "accelerator": "GPU",
  "colab": {
   "collapsed_sections": [],
   "name": "keypoint_classification_EN.ipynb",
   "provenance": [],
   "toc_visible": true
  },
  "kernelspec": {
   "display_name": "Python 3 (ipykernel)",
   "language": "python",
   "name": "python3"
  },
  "language_info": {
   "codemirror_mode": {
    "name": "ipython",
    "version": 3
   },
   "file_extension": ".py",
   "mimetype": "text/x-python",
   "name": "python",
   "nbconvert_exporter": "python",
   "pygments_lexer": "ipython3",
   "version": "3.11.4"
  }
 },
 "nbformat": 4,
 "nbformat_minor": 4
}
